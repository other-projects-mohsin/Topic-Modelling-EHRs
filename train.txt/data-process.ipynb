{
 "cells": [
  {
   "cell_type": "code",
   "execution_count": 1,
   "metadata": {},
   "outputs": [],
   "source": [
    "import csv\n",
    "\n",
    "# Initialize lists to store paper IDs and abstracts\n",
    "paper_ids = []\n",
    "abstracts = []\n",
    "\n",
    "# Read the CSV file\n",
    "with open('train.csv', 'r', encoding='utf-8') as infile:\n",
    "    reader = csv.reader(infile, delimiter='\\t')\n",
    "    current_paper_id = None\n",
    "    current_abstract = []\n",
    "    \n",
    "    for row in reader:\n",
    "        if not row:  # Skip empty rows\n",
    "            continue\n",
    "        \n",
    "        line = row[0].strip()\n",
    "        \n",
    "        if line.startswith('###'):\n",
    "            if current_paper_id is not None:\n",
    "                # Append the last paper's details\n",
    "                paper_ids.append(current_paper_id)\n",
    "                abstracts.append(' '.join(current_abstract))\n",
    "            # Start a new paper\n",
    "            current_paper_id = line\n",
    "            current_abstract = []\n",
    "        else:\n",
    "            # Add the line to the current abstract, removing the keyword\n",
    "            current_abstract.append(' '.join(line.split('\\t')[1:]))\n",
    "\n",
    "    # Append the last paper's details\n",
    "    if current_paper_id is not None:\n",
    "        paper_ids.append(current_paper_id)\n",
    "        abstracts.append(' '.join(current_abstract))\n",
    "\n",
    "# Write to a new CSV file\n",
    "with open('processed_papers.csv', 'w', encoding='utf-8', newline='') as outfile:\n",
    "    writer = csv.writer(outfile)\n",
    "    writer.writerow(['Paper ID', 'Abstract'])\n",
    "    for paper_id, abstract in zip(paper_ids, abstracts):\n",
    "        writer.writerow([paper_id, abstract])\n"
   ]
  }
 ],
 "metadata": {
  "kernelspec": {
   "display_name": "tmd",
   "language": "python",
   "name": "python3"
  },
  "language_info": {
   "codemirror_mode": {
    "name": "ipython",
    "version": 3
   },
   "file_extension": ".py",
   "mimetype": "text/x-python",
   "name": "python",
   "nbconvert_exporter": "python",
   "pygments_lexer": "ipython3",
   "version": "3.10.14"
  }
 },
 "nbformat": 4,
 "nbformat_minor": 2
}

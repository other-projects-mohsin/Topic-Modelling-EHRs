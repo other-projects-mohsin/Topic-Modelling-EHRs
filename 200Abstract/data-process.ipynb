{
 "cells": [
  {
   "cell_type": "code",
   "execution_count": 2,
   "metadata": {},
   "outputs": [
    {
     "name": "stdout",
     "output_type": "stream",
     "text": [
      "Data has been written to output.csv\n"
     ]
    }
   ],
   "source": [
    "import pandas as pd\n",
    "\n",
    "# Define the input and output file names\n",
    "input_file = 'train.txt'\n",
    "output_file = 'output.csv'\n",
    "\n",
    "# Initialize lists to store paper ids and abstracts\n",
    "paper_ids = []\n",
    "abstracts = []\n",
    "\n",
    "# Read the input file\n",
    "with open(input_file, 'r', encoding='utf-8') as file:\n",
    "    lines = file.readlines()\n",
    "\n",
    "# Initialize variables to store the current paper id and abstract\n",
    "current_paper_id = None\n",
    "current_abstract = []\n",
    "\n",
    "# Process each line in the file\n",
    "for line in lines:\n",
    "    line = line.strip()\n",
    "    \n",
    "    # If the line starts with '#', it's a paper id\n",
    "    if line.startswith('###'):\n",
    "        if current_paper_id is not None:\n",
    "            # Save the previous paper's data\n",
    "            paper_ids.append(current_paper_id)\n",
    "            abstracts.append(' '.join(current_abstract).replace('\"', ''))\n",
    "        \n",
    "        # Start a new paper\n",
    "        current_paper_id = line\n",
    "        current_abstract = []\n",
    "    elif line:\n",
    "        # Split the line by tab and take the second part (the actual text)\n",
    "        parts = line.split('\\t', 1)\n",
    "        if len(parts) > 1:\n",
    "            current_abstract.append(parts[1])\n",
    "\n",
    "# Save the last paper's data\n",
    "if current_paper_id is not None:\n",
    "    paper_ids.append(current_paper_id)\n",
    "    abstracts.append(' '.join(current_abstract).replace('\"', ''))\n",
    "\n",
    "# Create a DataFrame\n",
    "df = pd.DataFrame({'Paper ID': paper_ids, 'ABSTRACT': abstracts})\n",
    "\n",
    "# Write the DataFrame to a CSV file\n",
    "df.to_csv(output_file, index=False, quoting=1)  # quoting=1 ensures that all text is quoted\n",
    "\n",
    "print(f\"Data has been written to {output_file}\")\n"
   ]
  }
 ],
 "metadata": {
  "kernelspec": {
   "display_name": "tmd",
   "language": "python",
   "name": "python3"
  },
  "language_info": {
   "codemirror_mode": {
    "name": "ipython",
    "version": 3
   },
   "file_extension": ".py",
   "mimetype": "text/x-python",
   "name": "python",
   "nbconvert_exporter": "python",
   "pygments_lexer": "ipython3",
   "version": "3.10.14"
  }
 },
 "nbformat": 4,
 "nbformat_minor": 2
}
